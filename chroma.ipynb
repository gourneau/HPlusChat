{
 "cells": [
  {
   "cell_type": "code",
   "execution_count": 8,
   "id": "38faec7a-dafc-4ade-8726-75a395b80839",
   "metadata": {
    "tags": []
   },
   "outputs": [
    {
     "name": "stderr",
     "output_type": "stream",
     "text": [
      "Using embedded DuckDB with persistence: data will be stored in: hplus.db\n",
      "Using embedded DuckDB without persistence: data will be transient\n",
      "No embedding_function provided, using default embedding function: SentenceTransformerEmbeddingFunction\n"
     ]
    },
    {
     "data": {
      "text/plain": [
       "{'ids': [['doc1']],\n",
       " 'embeddings': None,\n",
       " 'documents': [['This is a document']],\n",
       " 'metadatas': [[{'source': 'my_source'}]],\n",
       " 'distances': [[19.579999923706055]]}"
      ]
     },
     "execution_count": 8,
     "metadata": {},
     "output_type": "execute_result"
    }
   ],
   "source": [
    "import chromadb\n",
    "from chromadb.config import Settings\n",
    "client = chromadb.Client(Settings(chroma_db_impl=\"duckdb+parquet\",\n",
    "                                    persist_directory=\"hplus.db\"\n",
    "                                ))\n",
    "\n",
    "client = chromadb.Client()\n",
    "\n",
    "\n",
    "collection = client.create_collection(\"sample_collection\")\n",
    "\n",
    "\n",
    "collection.add(\n",
    "\n",
    "  embeddings=[[1.2, 2.3, 4.5], [6.7, 8.2, 9.2]],\n",
    "\n",
    "  documents=[\"This is a document\", \"This is another document\"],\n",
    "\n",
    "  metadatas=[{\"source\": \"my_source\"}, {\"source\": \"other_source\"}],\n",
    "\n",
    "  ids=[\"doc1\", \"doc2\"]\n",
    "\n",
    ")\n",
    "\n",
    "\n",
    "collection.query(\n",
    "\n",
    "  query_embeddings=[5.0, 4.0, 3.0],\n",
    "\n",
    "  n_results=2,\n",
    "\n",
    "  where={\"source\": \"my_source\"}\n",
    "\n",
    ")  "
   ]
  },
  {
   "cell_type": "code",
   "execution_count": null,
   "id": "bbafbf9e-0004-4fbc-bd4e-9ec73ae78acd",
   "metadata": {},
   "outputs": [],
   "source": []
  }
 ],
 "metadata": {
  "kernelspec": {
   "display_name": "Python 3 (ipykernel)",
   "language": "python",
   "name": "python3"
  },
  "language_info": {
   "codemirror_mode": {
    "name": "ipython",
    "version": 3
   },
   "file_extension": ".py",
   "mimetype": "text/x-python",
   "name": "python",
   "nbconvert_exporter": "python",
   "pygments_lexer": "ipython3",
   "version": "3.11.3"
  }
 },
 "nbformat": 4,
 "nbformat_minor": 5
}
